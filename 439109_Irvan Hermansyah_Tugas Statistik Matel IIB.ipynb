{
  "nbformat": 4,
  "nbformat_minor": 0,
  "metadata": {
    "colab": {
      "name": "Tugas Statistik Matel IIB.ipynb",
      "provenance": [],
      "collapsed_sections": []
    },
    "kernelspec": {
      "name": "python3",
      "display_name": "Python 3"
    },
    "language_info": {
      "name": "python"
    }
  },
  "cells": [
    {
      "cell_type": "code",
      "metadata": {
        "id": "nywLoqnv7aoY"
      },
      "source": [
        "#IRVAN HERMANSYAH\n",
        "#19/439109/PA/18932\n",
        "\n",
        "import numpy as np"
      ],
      "execution_count": 28,
      "outputs": []
    },
    {
      "cell_type": "code",
      "metadata": {
        "colab": {
          "base_uri": "https://localhost:8080/"
        },
        "id": "z6IAN8FOjMQd",
        "outputId": "d64aa788-f482-4a3e-ce9c-ed68e827f93c"
      },
      "source": [
        "tensile = [15, 15, 16, 17, 17, 17, 17, 17, 17, 17, 17, 17, 17, 17, 17, 17, 17, 17, 18, 18, 18, 18, 18, 18, 18, 18, 18, 18, 18, 18, 18, 18, 18, 18, 19, 19, 19, 19, 19, 19, 19, 19, 19, 19, 19, 19, 19, 19, 19, 20, 20, 20, 20, 20, 20, 20, 20, 20, 20, 20, 20, 20, 20, 20, 20, 20, 20, 20, 20, 20, 20, 20, 20, 20, 20, 20, 20, 20, 21, 21, 21, 21, 21, 21, 21, 21, 21, 21, 21, 21, 21, 21, 21, 21, 21, 21, 21, 21, 21, 21, 21, 21, 21, 21, 21, 21, 21, 21, 22, 22, 22, 22, 22, 22, 22, 22, 22, 22, 22, 22, 22, 22, 22, 22, 22, 22, 22, 22, 22, 22, 22, 22, 22, 22, 22, 22, 22, 22, 22, 22, 22, 22, 22, 23, 23, 23, 23, 23, 23, 23, 23, 23, 23, 23, 23, 23, 23, 23, 23, 23, 23, 23, 23, 23, 23, 23, 23, 23, 23, 23, 23, 23, 23, 23, 23, 23, 24, 24, 24, 24, 24, 24, 24, 24, 24, 24, 25, 25, 25, 25, 25, 25, 25, 25, 25, 25, 25, 25, 25, 25, 25, 25, 25, 25, 25, 25, 25, 25, 25, 25, 25, 25, 25, 25, 25, 25, 26, 26, 26, 26, 26, 26, 26, 26, 26, 26, 26, 26, 26, 26, 26, 26, 26, 26, 26, 26, 26, 26, 26, 27, 27, 27, 27, 27, 27, 27, 27, 27, 27, 27, 27, 27, 27, 27, 27, 27, 27, 27, 27, 27, 27, 27, 27, 27, 27, 27, 27, 27, 27, 27, 27, 27, 28, 28, 28, 28, 28, 28, 28, 28, 28, 28, 28, 28, 28, 28, 28, 28, 28, 28, 28, 28, 28, 28, 28, 28, 28, 29, 29, 29, 29, 29, 29, 29, 29, 29, 29, 29, 29, 29, 29, 29, 29, 29, 29, 29, 30, 30, 30, 30, 30, 30, 30, 30, 30, 30, 30, 30, 31, 31, 31, 31, 31, 31, 31, 31, 31, 31, 31, 31, 31, 31, 31, 31, 31, 31, 31, 31, 32, 32, 32, 32, 32, 32, 32, 32, 32, 32, 33, 33, 33, 35, 35, 36, 36]\n",
        "sigmaT = 5.0 # simpangan baku distribusi diketahui\n",
        "nT = len(tensile)\n",
        "print(nT)"
      ],
      "execution_count": 23,
      "outputs": [
        {
          "output_type": "stream",
          "text": [
            "365\n"
          ],
          "name": "stdout"
        }
      ]
    },
    {
      "cell_type": "code",
      "metadata": {
        "colab": {
          "base_uri": "https://localhost:8080/"
        },
        "id": "Qrhsm7SdkQWD",
        "outputId": "e2a4333e-d8ae-4fed-c877-60a2f4308ecd"
      },
      "source": [
        "# No. 1\n",
        "# mencari mu dengan sigma diketahui\n",
        "gamma = 0.95\n",
        "c = 1.960 # dari gamma\n",
        "rerataT = np.mean(tensile)\n",
        "print('rerata tensile:',rerataT)\n",
        "kT = c*sigmaT/np.sqrt(nT)\n",
        "print('k:',kT)\n",
        "print()\n",
        "print('CONF_0.95 {',rerataT-kT,'<= mu <=',rerataT+kT,'}')"
      ],
      "execution_count": 24,
      "outputs": [
        {
          "output_type": "stream",
          "text": [
            "rerata tensile: 24.339726027397262\n",
            "k: 0.5129554441384095\n",
            "\n",
            "CONF_0.95 { 23.826770583258853 <= mu <= 24.85268147153567 }\n"
          ],
          "name": "stdout"
        }
      ]
    },
    {
      "cell_type": "code",
      "metadata": {
        "colab": {
          "base_uri": "https://localhost:8080/"
        },
        "id": "zGxKHxGZlTBw",
        "outputId": "a1569235-bf20-437d-ad6e-2d3c2473676a"
      },
      "source": [
        "# No. 2\n",
        "# mencari mu dengan sigma tidak diketahui\n",
        "gamma = 0.95\n",
        "Fc = 0.5*(1+gamma)\n",
        "print('F(c):',Fc)\n",
        "c = 2.26 # dari gamma\n",
        "rerataT = np.mean(tensile)\n",
        "print('rerata tensile:',rerataT)\n",
        "# simpangan baku sampel\n",
        "stdT = np.sqrt(np.var(tensile,ddof=1))\n",
        "print('simpangan baku sampel tensile:',stdT)\n",
        "kT = c*stdT/np.sqrt(nT)\n",
        "print('k:',kT)\n",
        "print()\n",
        "print('CONF_0.95 {',rerataT-kT,'<= mu <=',rerataT+kT,'}')"
      ],
      "execution_count": 25,
      "outputs": [
        {
          "output_type": "stream",
          "text": [
            "F(c): 0.975\n",
            "rerata tensile: 24.339726027397262\n",
            "simpangan baku sampel tensile: 4.352551977396892\n",
            "k: 0.5148799414188332\n",
            "\n",
            "CONF_0.95 { 23.82484608597843 <= mu <= 24.854605968816095 }\n"
          ],
          "name": "stdout"
        }
      ]
    },
    {
      "cell_type": "code",
      "metadata": {
        "colab": {
          "base_uri": "https://localhost:8080/"
        },
        "id": "Q9inMExAn8N0",
        "outputId": "a15d0b3e-eacc-47f7-8dbe-aff5581cff95"
      },
      "source": [
        "# No. 3\n",
        "# mencari sigma\n",
        "gamma = 0.95\n",
        "Fc1 = 0.5*(1-gamma)\n",
        "Fc2 = 0.5*(1+gamma)\n",
        "print('F(c1):',Fc1)\n",
        "print('F(c2):',Fc2)\n",
        "c1 = 2.70\n",
        "c2 = 19.02\n",
        "# c = 1.960 # dari gamma\n",
        "\n",
        "# varian sampel\n",
        "varT = np.var(tensile,ddof=1)\n",
        "print('varian sampel tensile:',varT)\n",
        "k1 = (nT-1)*varT/c1\n",
        "k2 = (nT-1)*varT/c2\n",
        "print('k1:',k1)\n",
        "print('k2:',k2)\n",
        "print()\n",
        "print('CONF_0.95 {',k2,'<= sigma_2 <=',k1,'}')\n",
        "print('CONF_0.95 {',np.sqrt(k2),'<= sigma <=',np.sqrt(k1),'}')"
      ],
      "execution_count": 26,
      "outputs": [
        {
          "output_type": "stream",
          "text": [
            "F(c1): 0.025000000000000022\n",
            "F(c2): 0.975\n",
            "varian sampel tensile: 18.944708715941594\n",
            "k1: 2554.027397260274\n",
            "k2: 362.55909424830395\n",
            "\n",
            "CONF_0.95 { 362.55909424830395 <= sigma_2 <= 2554.027397260274 }\n",
            "CONF_0.95 { 19.040984592407607 <= sigma <= 50.53738613403224 }\n"
          ],
          "name": "stdout"
        }
      ]
    },
    {
      "cell_type": "code",
      "metadata": {
        "colab": {
          "base_uri": "https://localhost:8080/"
        },
        "id": "HcDl2BNksjAG",
        "outputId": "91b4bab7-9b46-4772-d22c-ae922846ebef"
      },
      "source": [
        "# No. 4\n",
        "# Pengujian hipotesis\n",
        "# hipotesis: u0 < 27 tidak baku\n",
        "u0 = 27\n",
        "alfa = 0.05\n",
        "u0_baku = (rerataT-u0)/(stdT/(np.sqrt(nT)))\n",
        "c = 1.83\n",
        "print('u0:',u0_baku)"
      ],
      "execution_count": 27,
      "outputs": [
        {
          "output_type": "stream",
          "text": [
            "u0: -11.676934163553868\n"
          ],
          "name": "stdout"
        }
      ]
    }
  ]
}